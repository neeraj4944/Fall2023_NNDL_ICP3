{
  "nbformat": 4,
  "nbformat_minor": 0,
  "metadata": {
    "colab": {
      "provenance": []
    },
    "kernelspec": {
      "name": "python3",
      "display_name": "Python 3"
    },
    "language_info": {
      "name": "python"
    }
  },
  "cells": [
    {
      "cell_type": "code",
      "execution_count": 3,
      "metadata": {
        "colab": {
          "base_uri": "https://localhost:8080/"
        },
        "id": "t9cHH7i3uTL2",
        "outputId": "11644611-e4e5-49e8-de50-1061f6e6b135"
      },
      "outputs": [
        {
          "output_type": "stream",
          "name": "stdout",
          "text": [
            "37000.0\n",
            "37000.0\n",
            "4\n"
          ]
        }
      ],
      "source": [
        "# 1. Create a class Employee and then do the following\n",
        "# • Create a data member to count the number of Employees\n",
        "# • Create a constructor to initialize name, family, salary, department\n",
        "# • Create a function to average salary\n",
        "# • Create a Fulltime Employee class and it should inherit the properties of Employee class\n",
        "# • Create the instances of Fulltime Employee class and Employee class and call their member functions.\n",
        "\n",
        "# Create class as Employee\n",
        "class Employee:\n",
        "  emp_count = 0\n",
        "\n",
        "# Declaration and initialization of constructor\n",
        "  def __init__(self, name, family, salary, department):\n",
        "\n",
        "        self.name = name\n",
        "        self.family = family\n",
        "        self.salary = salary\n",
        "        self.department = department\n",
        "        Employee.emp_count = Employee.emp_count + 1\n",
        "\n",
        "# Create function as avg_saal\n",
        "  def avg_sal(self, emps):\n",
        "      sum_sal = 0\n",
        "      for i in emps:\n",
        "            sum_sal= sum_sal+ i.salary\n",
        "\n",
        "# Print output\n",
        "      print(sum_sal/len(emps))\n",
        "\n",
        "# Create class as Fulltime_Employee\n",
        "class Fulltime_Employee(Employee):\n",
        "\n",
        "      def __init__(self, name, family, salary, department):\n",
        "         Employee.__init__(self, name, family, salary, department)\n",
        "\n",
        "list = []\n",
        "list.append(Employee('Jamielannister', 'Joffrey', 30000, 'Accounts'))\n",
        "list.append(Employee('Branstark', 'Emiliaclarke', 45000, 'Salesforce'))\n",
        "\n",
        "list.append(Fulltime_Employee('Johnsnow', 'Arrya', 23000, 'Architectutre'))\n",
        "list.append(Fulltime_Employee('Sophie', 'Robb', 50000, 'Management'))\n",
        "\n",
        "list[0].avg_sal(list)\n",
        "list[2].avg_sal(list)\n",
        "\n",
        "# Print output as employee count\n",
        "print(Employee.emp_count)\n"
      ]
    },
    {
      "cell_type": "code",
      "source": [
        "# 2. Numpy\n",
        "# Using NumPy create random vector of size 20 having only float in the range 1-20.\n",
        "# Then reshape the array to 4 by 5\n",
        "# Then replace the max in each row by 0 (axis=1)\n",
        "# (you can NOT implement it via for loop)\n",
        "\n",
        "import numpy as np\n",
        "\n",
        "# Create random vector of size 20 with floats between 1 and 20\n",
        "vec = np.random.uniform(1, 20, 20)\n",
        "\n",
        "# Reshape the vector to 4 by 5\n",
        "mat = vec.reshape(4, 5)\n",
        "\n",
        "# Replace the max in each row by 0\n",
        "mat[np.arange(4), mat.argmax(axis=1)] = 0\n",
        "\n",
        "# Print output\n",
        "print(mat)\n"
      ],
      "metadata": {
        "colab": {
          "base_uri": "https://localhost:8080/"
        },
        "id": "pXC7_LMDyQp5",
        "outputId": "20f09cd8-3cad-467f-f7be-a5ef20acd217"
      },
      "execution_count": 2,
      "outputs": [
        {
          "output_type": "stream",
          "name": "stdout",
          "text": [
            "[[ 2.02575703  0.          7.56338399  6.16642791  9.14919162]\n",
            " [14.05376712  3.49250699 14.04578377  0.          7.08676031]\n",
            " [ 0.          1.22752621  6.78343352  4.04539894  2.29704216]\n",
            " [ 5.85550385 15.67143931  3.61076603  0.         14.65596043]]\n"
          ]
        }
      ]
    }
  ]
}